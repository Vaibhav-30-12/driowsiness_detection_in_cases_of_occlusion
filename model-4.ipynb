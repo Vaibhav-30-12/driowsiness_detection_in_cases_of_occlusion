{
 "cells": [
  {
   "cell_type": "code",
   "execution_count": 1,
   "id": "03f2fea2",
   "metadata": {
    "_cell_guid": "b1076dfc-b9ad-4769-8c92-a6c4dae69d19",
    "_uuid": "8f2839f25d086af736a60e9eeb907d3b93b6e0e5",
    "execution": {
     "iopub.execute_input": "2025-05-12T19:20:11.397878Z",
     "iopub.status.busy": "2025-05-12T19:20:11.397033Z",
     "iopub.status.idle": "2025-05-12T19:20:13.518274Z",
     "shell.execute_reply": "2025-05-12T19:20:13.517389Z"
    },
    "papermill": {
     "duration": 2.126099,
     "end_time": "2025-05-12T19:20:13.519535",
     "exception": false,
     "start_time": "2025-05-12T19:20:11.393436",
     "status": "completed"
    },
    "tags": []
   },
   "outputs": [
    {
     "name": "stdout",
     "output_type": "stream",
     "text": [
      "/kaggle/input/notebook810eb1472d/_output_.zip\n",
      "/kaggle/input/notebook810eb1472d/__results__.html\n",
      "/kaggle/input/notebook810eb1472d/__notebook__.ipynb\n",
      "/kaggle/input/notebook810eb1472d/__output__.json\n",
      "/kaggle/input/notebook810eb1472d/custom.css\n",
      "/kaggle/input/notebook810eb1472d/__results___files/__results___2_0.jpg\n",
      "/kaggle/input/notebook810eb1472d/__results___files/__results___2_0.png\n"
     ]
    }
   ],
   "source": [
    "# This Python 3 environment comes with many helpful analytics libraries installed\n",
    "# It is defined by the kaggle/python Docker image: https://github.com/kaggle/docker-python\n",
    "# For example, here's several helpful packages to load\n",
    "\n",
    "import numpy as np # linear algebra\n",
    "import pandas as pd # data processing, CSV file I/O (e.g. pd.read_csv)\n",
    "\n",
    "# Input data files are available in the read-only \"../input/\" directory\n",
    "# For example, running this (by clicking run or pressing Shift+Enter) will list all files under the input directory\n",
    "\n",
    "import os\n",
    "for dirname, _, filenames in os.walk('/kaggle/input'):\n",
    "    for filename in filenames:\n",
    "        print(os.path.join(dirname, filename))\n",
    "\n",
    "# You can write up to 20GB to the current directory (/kaggle/working/) that gets preserved as output when you create a version using \"Save & Run All\" \n",
    "# You can also write temporary files to /kaggle/temp/, but they won't be saved outside of the current session"
   ]
  },
  {
   "cell_type": "code",
   "execution_count": 2,
   "id": "c653f7bb",
   "metadata": {
    "execution": {
     "iopub.execute_input": "2025-05-12T19:20:13.524954Z",
     "iopub.status.busy": "2025-05-12T19:20:13.524212Z",
     "iopub.status.idle": "2025-05-12T19:22:01.843729Z",
     "shell.execute_reply": "2025-05-12T19:22:01.842778Z"
    },
    "papermill": {
     "duration": 108.327471,
     "end_time": "2025-05-12T19:22:01.849141",
     "exception": false,
     "start_time": "2025-05-12T19:20:13.521670",
     "status": "completed"
    },
    "tags": []
   },
   "outputs": [
    {
     "data": {
      "text/plain": [
       "['__pycache__', 'combined_dataset.csv', 'frames']"
      ]
     },
     "execution_count": 2,
     "metadata": {},
     "output_type": "execute_result"
    }
   ],
   "source": [
    "import zipfile\n",
    "import os\n",
    "\n",
    "# Path to the uploaded zip file\n",
    "zip_path = \"/kaggle/input/notebook810eb1472d/_output_.zip\"\n",
    "extract_path = \"/kaggle/working/frames\"\n",
    "\n",
    "# Unzip the file\n",
    "with zipfile.ZipFile(zip_path, 'r') as zip_ref:\n",
    "    zip_ref.extractall(extract_path)\n",
    "\n",
    "# Check contents\n",
    "os.listdir(extract_path)\n"
   ]
  },
  {
   "cell_type": "code",
   "execution_count": 3,
   "id": "783bb888",
   "metadata": {
    "execution": {
     "iopub.execute_input": "2025-05-12T19:22:01.859812Z",
     "iopub.status.busy": "2025-05-12T19:22:01.859380Z",
     "iopub.status.idle": "2025-05-13T03:03:07.593722Z",
     "shell.execute_reply": "2025-05-13T03:03:07.592877Z"
    },
    "papermill": {
     "duration": 27673.351794,
     "end_time": "2025-05-13T03:03:15.205217",
     "exception": false,
     "start_time": "2025-05-12T19:22:01.853423",
     "status": "completed"
    },
    "tags": []
   },
   "outputs": [
    {
     "name": "stderr",
     "output_type": "stream",
     "text": [
      "Epoch 1/10: 100%|██████████| 16248/16248 [39:47<00:00,  6.80it/s]\n"
     ]
    },
    {
     "name": "stdout",
     "output_type": "stream",
     "text": [
      "Train Loss: 13284.3566, Accuracy: 56.63%\n",
      "Validation Accuracy: 65.79%\n",
      "✅ Best model saved.\n"
     ]
    },
    {
     "name": "stderr",
     "output_type": "stream",
     "text": [
      "Epoch 2/10: 100%|██████████| 16248/16248 [39:01<00:00,  6.94it/s]\n"
     ]
    },
    {
     "name": "stdout",
     "output_type": "stream",
     "text": [
      "Train Loss: 11086.5344, Accuracy: 65.79%\n",
      "Validation Accuracy: 70.38%\n",
      "✅ Best model saved.\n"
     ]
    },
    {
     "name": "stderr",
     "output_type": "stream",
     "text": [
      "Epoch 3/10: 100%|██████████| 16248/16248 [35:40<00:00,  7.59it/s]\n"
     ]
    },
    {
     "name": "stdout",
     "output_type": "stream",
     "text": [
      "Train Loss: 10080.8108, Accuracy: 70.07%\n",
      "Validation Accuracy: 73.73%\n",
      "✅ Best model saved.\n"
     ]
    },
    {
     "name": "stderr",
     "output_type": "stream",
     "text": [
      "Epoch 4/10: 100%|██████████| 16248/16248 [38:39<00:00,  7.00it/s]\n"
     ]
    },
    {
     "name": "stdout",
     "output_type": "stream",
     "text": [
      "Train Loss: 9413.1297, Accuracy: 72.58%\n",
      "Validation Accuracy: 74.60%\n",
      "✅ Best model saved.\n"
     ]
    },
    {
     "name": "stderr",
     "output_type": "stream",
     "text": [
      "Epoch 5/10: 100%|██████████| 16248/16248 [37:01<00:00,  7.31it/s]\n"
     ]
    },
    {
     "name": "stdout",
     "output_type": "stream",
     "text": [
      "Train Loss: 8942.8440, Accuracy: 74.33%\n",
      "Validation Accuracy: 76.16%\n",
      "✅ Best model saved.\n"
     ]
    },
    {
     "name": "stderr",
     "output_type": "stream",
     "text": [
      "Epoch 6/10: 100%|██████████| 16248/16248 [38:19<00:00,  7.07it/s]\n"
     ]
    },
    {
     "name": "stdout",
     "output_type": "stream",
     "text": [
      "Train Loss: 8589.8301, Accuracy: 75.57%\n",
      "Validation Accuracy: 78.51%\n",
      "✅ Best model saved.\n"
     ]
    },
    {
     "name": "stderr",
     "output_type": "stream",
     "text": [
      "Epoch 7/10: 100%|██████████| 16248/16248 [37:42<00:00,  7.18it/s]\n"
     ]
    },
    {
     "name": "stdout",
     "output_type": "stream",
     "text": [
      "Train Loss: 8248.6517, Accuracy: 76.62%\n",
      "Validation Accuracy: 78.40%\n"
     ]
    },
    {
     "name": "stderr",
     "output_type": "stream",
     "text": [
      "Epoch 8/10: 100%|██████████| 16248/16248 [37:09<00:00,  7.29it/s]\n"
     ]
    },
    {
     "name": "stdout",
     "output_type": "stream",
     "text": [
      "Train Loss: 8034.9690, Accuracy: 77.39%\n",
      "Validation Accuracy: 79.06%\n",
      "✅ Best model saved.\n"
     ]
    },
    {
     "name": "stderr",
     "output_type": "stream",
     "text": [
      "Epoch 9/10: 100%|██████████| 16248/16248 [38:49<00:00,  6.97it/s]\n"
     ]
    },
    {
     "name": "stdout",
     "output_type": "stream",
     "text": [
      "Train Loss: 7834.8076, Accuracy: 78.07%\n",
      "Validation Accuracy: 76.56%\n"
     ]
    },
    {
     "name": "stderr",
     "output_type": "stream",
     "text": [
      "Epoch 10/10: 100%|██████████| 16248/16248 [39:00<00:00,  6.94it/s]\n"
     ]
    },
    {
     "name": "stdout",
     "output_type": "stream",
     "text": [
      "Train Loss: 7679.3025, Accuracy: 78.62%\n",
      "Validation Accuracy: 80.20%\n",
      "✅ Best model saved.\n"
     ]
    },
    {
     "data": {
      "image/png": "[encoded data removed]",
      "text/plain": [
       "<Figure size 800x500 with 1 Axes>"
      ]
     },
     "metadata": {},
     "output_type": "display_data"
    },
    {
     "name": "stderr",
     "output_type": "stream",
     "text": [
      "/tmp/ipykernel_19/4207215684.py:216: FutureWarning: You are using `torch.load` with `weights_only=False` (the current default value), which uses the default pickle module implicitly. It is possible to construct malicious pickle data which will execute arbitrary code during unpickling (See https://github.com/pytorch/pytorch/blob/main/SECURITY.md#untrusted-models for more details). In a future release, the default value for `weights_only` will be flipped to `True`. This limits the functions that could be executed during unpickling. Arbitrary objects will no longer be allowed to be loaded via this mode unless they are explicitly allowlisted by the user via `torch.serialization.add_safe_globals`. We recommend you start setting `weights_only=True` for any use case where you don't have full control of the loaded file. Please open an issue on GitHub for any issues related to this experimental feature.\n",
      "  model.load_state_dict(torch.load(best_model_path))\n"
     ]
    },
    {
     "name": "stdout",
     "output_type": "stream",
     "text": [
      "\n",
      "--- Test Set Performance ---\n",
      "                     precision    recall  f1-score   support\n",
      "\n",
      "          Alert (0)       0.82      0.77      0.80     39276\n",
      "Slightly Drowsy (1)       0.76      0.86      0.81     37246\n",
      "         Drowsy (2)       0.83      0.77      0.80     38164\n",
      "\n",
      "           accuracy                           0.80    114686\n",
      "          macro avg       0.80      0.80      0.80    114686\n",
      "       weighted avg       0.80      0.80      0.80    114686\n",
      "\n",
      "\n",
      "✅ Test Accuracy: 80.16%\n",
      "\n",
      "Confusion Matrix:\n",
      " [[30380  5158  3738]\n",
      " [ 2940 32166  2140]\n",
      " [ 3727  5054 29383]]\n"
     ]
    }
   ],
   "source": [
    "# -------------------------\n",
    "# Imports\n",
    "# -------------------------\n",
    "import os\n",
    "import pandas as pd\n",
    "import numpy as np\n",
    "import torch\n",
    "import torch.nn as nn\n",
    "from torch.utils.data import Dataset, DataLoader\n",
    "from torchvision import transforms\n",
    "from PIL import Image\n",
    "from sklearn.model_selection import train_test_split\n",
    "from sklearn.preprocessing import StandardScaler\n",
    "from sklearn.metrics import classification_report, confusion_matrix\n",
    "from tqdm import tqdm\n",
    "\n",
    "# -------------------------\n",
    "# Load CSV & Clean\n",
    "# -------------------------\n",
    "csv_path = \"/kaggle/working/frames/combined_dataset.csv\"\n",
    "df = pd.read_csv(csv_path)\n",
    "\n",
    "df['img_path'] = df['img_path'].apply(lambda x: os.path.join(\"/kaggle/working/frames/frames\", os.path.basename(x)))\n",
    "df['Label'] = df['Label'].map({0: 0, 5: 1, 10: 2})\n",
    "\n",
    "tabular_cols = ['EAR', 'MAR', 'Head_Tilt', 'Head_Nod']\n",
    "\n",
    "# Handle infinities\n",
    "df[tabular_cols] = df[tabular_cols].replace([np.inf, -np.inf], np.nan)\n",
    "df = df.dropna(subset=tabular_cols).reset_index(drop=True)\n",
    "\n",
    "# Scale tabular features\n",
    "scaler = StandardScaler()\n",
    "df[tabular_cols] = scaler.fit_transform(df[tabular_cols])\n",
    "\n",
    "# -------------------------\n",
    "# Train / Validation / Test Split\n",
    "# -------------------------\n",
    "train_val_df, test_df = train_test_split(df, test_size=0.15, stratify=df['Label'], random_state=42)\n",
    "train_df, val_df = train_test_split(train_val_df, test_size=0.2, stratify=train_val_df['Label'], random_state=42)\n",
    "\n",
    "# -------------------------\n",
    "# Dataset Class\n",
    "# -------------------------\n",
    "class DrowsinessCombinedDataset(Dataset):\n",
    "    def __init__(self, dataframe, transform=None):\n",
    "        self.df = dataframe.reset_index(drop=True)\n",
    "        self.transform = transform\n",
    "\n",
    "    def __len__(self):\n",
    "        return len(self.df)\n",
    "\n",
    "    def __getitem__(self, idx):\n",
    "        row = self.df.iloc[idx]\n",
    "        image = Image.open(row['img_path']).convert('RGB')\n",
    "        if self.transform:\n",
    "            image = self.transform(image)\n",
    "        tabular = torch.tensor(row[tabular_cols].astype(np.float32).values, dtype=torch.float32)\n",
    "        label = torch.tensor(int(row['Label'])).long()\n",
    "        return image, tabular, label\n",
    "\n",
    "# -------------------------\n",
    "# Image Transformations\n",
    "# -------------------------\n",
    "transform = transforms.Compose([\n",
    "    transforms.Resize((224, 224)),\n",
    "    transforms.ToTensor(),\n",
    "    transforms.Normalize([0.485, 0.456, 0.406], [0.229, 0.224, 0.225])\n",
    "])\n",
    "\n",
    "# -------------------------\n",
    "# Data Loaders\n",
    "# -------------------------\n",
    "train_loader = DataLoader(DrowsinessCombinedDataset(train_df, transform), batch_size=32, shuffle=True, num_workers=0)\n",
    "val_loader = DataLoader(DrowsinessCombinedDataset(val_df, transform), batch_size=32, shuffle=False, num_workers=0)\n",
    "test_loader = DataLoader(DrowsinessCombinedDataset(test_df, transform), batch_size=32, shuffle=False, num_workers=0)\n",
    "\n",
    "# -------------------------\n",
    "# Model\n",
    "# -------------------------\n",
    "class DepthwiseSeparableConv(nn.Module):\n",
    "    def __init__(self, in_channels, out_channels, stride=1):\n",
    "        super().__init__()\n",
    "        self.depthwise = nn.Conv2d(in_channels, in_channels, 3, stride, 1, groups=in_channels, bias=False)\n",
    "        self.pointwise = nn.Conv2d(in_channels, out_channels, 1, bias=False)\n",
    "        self.bn = nn.BatchNorm2d(out_channels)\n",
    "        self.relu = nn.ReLU(inplace=True)\n",
    "\n",
    "    def forward(self, x):\n",
    "        x = self.depthwise(x)\n",
    "        x = self.pointwise(x)\n",
    "        x = self.bn(x)\n",
    "        return self.relu(x)\n",
    "\n",
    "class MobileNetWithTabularLSTM(nn.Module):\n",
    "    def __init__(self, num_tabular_features, num_classes=3):\n",
    "        super().__init__()\n",
    "        self.cnn = nn.Sequential(\n",
    "            nn.Conv2d(3, 32, 3, stride=2, padding=1, bias=False),\n",
    "            nn.BatchNorm2d(32),\n",
    "            nn.ReLU(inplace=True),\n",
    "            DepthwiseSeparableConv(32, 64, 1),\n",
    "            DepthwiseSeparableConv(64, 128, 2),\n",
    "            DepthwiseSeparableConv(128, 128, 1),\n",
    "            DepthwiseSeparableConv(128, 256, 2),\n",
    "            DepthwiseSeparableConv(256, 256, 1),\n",
    "            nn.AdaptiveAvgPool2d(1)\n",
    "        )\n",
    "\n",
    "        self.lstm = nn.LSTM(input_size=256, hidden_size=128, batch_first=True)\n",
    "\n",
    "        self.fc = nn.Sequential(\n",
    "            nn.Linear(128 + num_tabular_features, 128),\n",
    "            nn.ReLU(),\n",
    "            nn.Dropout(0.3),\n",
    "            nn.Linear(128, num_classes)\n",
    "        )\n",
    "\n",
    "    def forward(self, image, tabular):\n",
    "        x_img = self.cnn(image)\n",
    "        x_img = torch.flatten(x_img, 1)\n",
    "        x_img = x_img.unsqueeze(1)\n",
    "        x_lstm, _ = self.lstm(x_img)\n",
    "        x_lstm = x_lstm[:, -1, :]\n",
    "        x = torch.cat([x_lstm, tabular], dim=1)\n",
    "        return self.fc(x)\n",
    "\n",
    "# -------------------------\n",
    "# Training Setup\n",
    "# -------------------------\n",
    "\n",
    "device = torch.device(\"cuda\" if torch.cuda.is_available() else \"cpu\")\n",
    "model = MobileNetWithTabularLSTM(num_tabular_features=len(tabular_cols)).to(device)\n",
    "\n",
    "criterion = nn.CrossEntropyLoss()\n",
    "optimizer = torch.optim.Adam(model.parameters(), lr=1e-3)\n",
    "\n",
    "import matplotlib.pyplot as plt\n",
    "\n",
    "train_accuracies = []\n",
    "val_accuracies = []\n",
    "best_val_acc = 0.0\n",
    "best_model_path = \"/kaggle/working/best_model.pth\"\n",
    "\n",
    "# -------------------------\n",
    "# Training Loop\n",
    "# -------------------------\n",
    "epochs = 10\n",
    "for epoch in range(epochs):\n",
    "    model.train()\n",
    "    total_loss = 0\n",
    "    correct = 0\n",
    "    total = 0\n",
    "\n",
    "    for images, tabular, labels in tqdm(train_loader, desc=f\"Epoch {epoch+1}/{epochs}\"):\n",
    "        images, tabular, labels = images.to(device), tabular.to(device), labels.to(device)\n",
    "\n",
    "        optimizer.zero_grad()\n",
    "        outputs = model(images, tabular)\n",
    "        loss = criterion(outputs, labels)\n",
    "        loss.backward()\n",
    "        optimizer.step()\n",
    "\n",
    "        total_loss += loss.item()\n",
    "        _, preds = torch.max(outputs, 1)\n",
    "        correct += (preds == labels).sum().item()\n",
    "        total += labels.size(0)\n",
    "\n",
    "    train_acc = 100 * correct / total\n",
    "    train_accuracies.append(train_acc)\n",
    "    print(f\"Train Loss: {total_loss:.4f}, Accuracy: {train_acc:.2f}%\")\n",
    "\n",
    "    model.eval()\n",
    "    val_correct = 0\n",
    "    val_total = 0\n",
    "    with torch.no_grad():\n",
    "        for images, tabular, labels in val_loader:\n",
    "            images, tabular, labels = images.to(device), tabular.to(device), labels.to(device)\n",
    "            outputs = model(images, tabular)\n",
    "            _, preds = torch.max(outputs, 1)\n",
    "            val_correct += (preds == labels).sum().item()\n",
    "            val_total += labels.size(0)\n",
    "\n",
    "    val_acc = 100 * val_correct / val_total\n",
    "    val_accuracies.append(val_acc)\n",
    "    print(f\"Validation Accuracy: {val_acc:.2f}%\")\n",
    "\n",
    "    # Save best model\n",
    "    if val_acc > best_val_acc:\n",
    "        best_val_acc = val_acc\n",
    "        torch.save(model.state_dict(), best_model_path)\n",
    "        print(\"✅ Best model saved.\")\n",
    "\n",
    "# -------------------------\n",
    "# Accuracy Plot\n",
    "# -------------------------\n",
    "plt.figure(figsize=(8, 5))\n",
    "plt.plot(range(1, epochs+1), train_accuracies, label='Train Accuracy')\n",
    "plt.plot(range(1, epochs+1), val_accuracies, label='Validation Accuracy')\n",
    "plt.xlabel('Epoch')\n",
    "plt.ylabel('Accuracy (%)')\n",
    "plt.title('Training vs Validation Accuracy')\n",
    "plt.legend()\n",
    "plt.grid(True)\n",
    "plt.savefig(\"/kaggle/working/accuracy_plot.png\")\n",
    "plt.show()\n",
    "\n",
    "\n",
    "\n",
    "\n",
    "\n",
    "\n",
    "# -------------------------\n",
    "# Test Evaluation (Best Model)\n",
    "# -------------------------\n",
    "model.load_state_dict(torch.load(best_model_path))\n",
    "model.eval()\n",
    "all_preds = []\n",
    "all_labels = []\n",
    "\n",
    "with torch.no_grad():\n",
    "    for images, tabular, labels in test_loader:\n",
    "        images, tabular, labels = images.to(device), tabular.to(device), labels.to(device)\n",
    "        outputs = model(images, tabular)\n",
    "        _, preds = torch.max(outputs, 1)\n",
    "\n",
    "        all_preds.extend(preds.cpu().numpy())\n",
    "        all_labels.extend(labels.cpu().numpy())\n",
    "\n",
    "test_accuracy = 100 * (np.array(all_preds) == np.array(all_labels)).sum() / len(all_labels)\n",
    "\n",
    "print(\"\\n--- Test Set Performance ---\")\n",
    "print(classification_report(all_labels, all_preds, target_names=[\"Alert (0)\", \"Slightly Drowsy (1)\", \"Drowsy (2)\"]))\n",
    "print(f\"\\n✅ Test Accuracy: {test_accuracy:.2f}%\")\n",
    "\n",
    "cm = confusion_matrix(all_labels, all_preds)\n",
    "print(\"\\nConfusion Matrix:\\n\", cm)\n",
    "\n"
   ]
  },
  {
   "cell_type": "code",
   "execution_count": null,
   "id": "3c05f3ae",
   "metadata": {
    "papermill": {
     "duration": 7.517251,
     "end_time": "2025-05-13T03:03:30.009967",
     "exception": false,
     "start_time": "2025-05-13T03:03:22.492716",
     "status": "completed"
    },
    "tags": []
   },
   "outputs": [],
   "source": []
  }
 ],
 "metadata": {
  "kaggle": {
   "accelerator": "nvidiaTeslaT4",
   "dataSources": [
    {
     "sourceId": 238205099,
     "sourceType": "kernelVersion"
    }
   ],
   "dockerImageVersionId": 31011,
   "isGpuEnabled": true,
   "isInternetEnabled": true,
   "language": "python",
   "sourceType": "notebook"
  },
  "kernelspec": {
   "display_name": "Python 3",
   "language": "python",
   "name": "python3"
  },
  "language_info": {
   "codemirror_mode": {
    "name": "ipython",
    "version": 3
   },
   "file_extension": ".py",
   "mimetype": "text/x-python",
   "name": "python",
   "nbconvert_exporter": "python",
   "pygments_lexer": "ipython3",
   "version": "3.11.11"
  },
  "papermill": {
   "default_parameters": {},
   "duration": 27815.189819,
   "end_time": "2025-05-13T03:03:40.395705",
   "environment_variables": {},
   "exception": null,
   "input_path": "__notebook__.ipynb",
   "output_path": "__notebook__.ipynb",
   "parameters": {},
   "start_time": "2025-05-12T19:20:05.205886",
   "version": "2.6.0"
  }
 },
 "nbformat": 4,
 "nbformat_minor": 5
}
